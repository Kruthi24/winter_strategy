{
 "cells": [
  {
   "cell_type": "code",
   "execution_count": 1,
   "metadata": {},
   "outputs": [
    {
     "name": "stderr",
     "output_type": "stream",
     "text": [
      "/Users/kruthik/opt/miniconda3/envs/ghosh_sky_tiling/lib/python3.9/site-packages/tqdm/auto.py:21: TqdmWarning: IProgress not found. Please update jupyter and ipywidgets. See https://ipywidgets.readthedocs.io/en/stable/user_install.html\n",
      "  from .autonotebook import tqdm as notebook_tqdm\n"
     ]
    }
   ],
   "source": [
    "import pandas as pd\n",
    "import astropy\n",
    "# import bilby\n",
    "import numpy as np\n",
    "from matplotlib import pyplot as plt\n",
    "import healpy as hp\n",
    "from ligo.skymap import io, postprocess, plot, bayestar\n",
    "from glob import glob\n",
    "from scipy.stats import norm\n",
    "from astropy import units as u\n",
    "from astroquery.vizier import Vizier\n",
    "from scipy.special import gammaincinv"
   ]
  },
  {
   "cell_type": "code",
   "execution_count": 2,
   "metadata": {},
   "outputs": [
    {
     "name": "stderr",
     "output_type": "stream",
     "text": [
      "/Users/kruthik/opt/miniconda3/envs/ghosh_sky_tiling/lib/python3.9/site-packages/astropy/cosmology/flrw/base.py:1130: IntegrationWarning: The occurrence of roundoff error is detected, which prevents \n",
      "  the requested tolerance from being achieved.  The error may be \n",
      "  underestimated.\n",
      "  return quad(self._inv_efunc_scalar, z1, z2, args=self._inv_efunc_scalar_args)[0]\n",
      "/Users/kruthik/opt/miniconda3/envs/ghosh_sky_tiling/lib/python3.9/site-packages/numpy/lib/function_base.py:2412: RuntimeWarning: invalid value encountered in _integral_comoving_distance_z1z2_scalar (vectorized)\n",
      "  outputs = ufunc(*inputs)\n",
      "/Users/kruthik/opt/miniconda3/envs/ghosh_sky_tiling/lib/python3.9/site-packages/astropy/cosmology/flrw/base.py:1341: RuntimeWarning: divide by zero encountered in log10\n",
      "  val = 5.0 * np.log10(abs(self.luminosity_distance(z).value)) + 25.0\n"
     ]
    },
    {
     "data": {
      "text/html": [
       "<div><i>Table length=50</i>\n",
       "<table id=\"table5610375344\" class=\"table-striped table-bordered table-condensed\">\n",
       "<thead><tr><th>RAJ2000</th><th>DEJ2000</th><th>Ktmag</th></tr></thead>\n",
       "<thead><tr><th>deg</th><th>deg</th><th>mag</th></tr></thead>\n",
       "<thead><tr><th>float64</th><th>float64</th><th>float32</th></tr></thead>\n",
       "<tr><td>344.01190</td><td>36.36136</td><td>8.772</td></tr>\n",
       "<tr><td>343.81122</td><td>36.67177</td><td>9.958</td></tr>\n",
       "<tr><td>137.19089</td><td>-38.60788</td><td>9.566</td></tr>\n",
       "<tr><td>334.86545</td><td>29.39581</td><td>9.835</td></tr>\n",
       "<tr><td>359.81589</td><td>46.88923</td><td>9.307</td></tr>\n",
       "<tr><td>0.00695</td><td>47.27456</td><td>9.499</td></tr>\n",
       "<tr><td>343.35303</td><td>37.17527</td><td>10.151</td></tr>\n",
       "<tr><td>137.01408</td><td>-37.56026</td><td>10.388</td></tr>\n",
       "<tr><td>353.71420</td><td>44.30398</td><td>9.733</td></tr>\n",
       "<tr><td>...</td><td>...</td><td>...</td></tr>\n",
       "<tr><td>340.34521</td><td>34.62170</td><td>10.457</td></tr>\n",
       "<tr><td>226.39670</td><td>-72.43284</td><td>9.142</td></tr>\n",
       "<tr><td>350.79898</td><td>43.95892</td><td>9.532</td></tr>\n",
       "<tr><td>133.63544</td><td>-32.93748</td><td>8.528</td></tr>\n",
       "<tr><td>123.16494</td><td>-16.05073</td><td>9.727</td></tr>\n",
       "<tr><td>341.26642</td><td>33.99616</td><td>9.799</td></tr>\n",
       "<tr><td>339.33075</td><td>34.44790</td><td>9.204</td></tr>\n",
       "<tr><td>137.27219</td><td>-35.90259</td><td>10.822</td></tr>\n",
       "<tr><td>188.13953</td><td>-68.53886</td><td>9.609</td></tr>\n",
       "<tr><td>339.01483</td><td>33.97575</td><td>10.032</td></tr>\n",
       "</table></div>"
      ],
      "text/plain": [
       "<Table length=50>\n",
       " RAJ2000   DEJ2000   Ktmag \n",
       "   deg       deg      mag  \n",
       " float64   float64  float32\n",
       "--------- --------- -------\n",
       "344.01190  36.36136   8.772\n",
       "343.81122  36.67177   9.958\n",
       "137.19089 -38.60788   9.566\n",
       "334.86545  29.39581   9.835\n",
       "359.81589  46.88923   9.307\n",
       "  0.00695  47.27456   9.499\n",
       "343.35303  37.17527  10.151\n",
       "137.01408 -37.56026  10.388\n",
       "353.71420  44.30398   9.733\n",
       "      ...       ...     ...\n",
       "340.34521  34.62170  10.457\n",
       "226.39670 -72.43284   9.142\n",
       "350.79898  43.95892   9.532\n",
       "133.63544 -32.93748   8.528\n",
       "123.16494 -16.05073   9.727\n",
       "341.26642  33.99616   9.799\n",
       "339.33075  34.44790   9.204\n",
       "137.27219 -35.90259  10.822\n",
       "188.13953 -68.53886   9.609\n",
       "339.01483  33.97575  10.032"
      ]
     },
     "execution_count": 2,
     "metadata": {},
     "output_type": "execute_result"
    }
   ],
   "source": [
    "from astropy.cosmology import WMAP9 as cosmo\n",
    "from astropy.table import Column\n",
    "import astropy.units as u\n",
    "import astropy.constants as c\n",
    "\n",
    "filename = \"18951_bayestar.fits.gz\"\n",
    "prob, distmu, distsigma, distnorm = hp.read_map(filename, field=range(4))\n",
    "npix = len(prob)\n",
    "nside = hp.npix2nside(npix)\n",
    "pixarea = hp.nside2pixarea(nside)\n",
    "\n",
    "Vizier.ROW_LIMIT = -1\n",
    "cat, = Vizier.get_catalogs('J/ApJS/199/26/table3')\n",
    "completeness = 0.5\n",
    "alpha = -1.0\n",
    "MK_star = -23.55\n",
    "MK_max = MK_star + 2.5*np.log10(gammaincinv(alpha+2, completeness))\n",
    "\n",
    "z=(u.Quantity(cat['cz'])/c.c).to(u.dimensionless_unscaled)\n",
    "MK = cat['Ktmag'] - cosmo.distmod(z)\n",
    "keep = (z>0) & (MK < MK_max)\n",
    "cat = cat[keep]\n",
    "z = z[keep]\n",
    "r = cosmo.luminosity_distance(z).to('Mpc').value\n",
    "theta = 0.5 * np.pi - cat['DEJ2000'].to('rad').value\n",
    "phi = cat['RAJ2000'].to('rad').value\n",
    "ipix = hp.ang2pix(nside, theta, phi)\n",
    "dp_dV = prob[ipix] * distnorm[ipix] * norm(distmu[ipix], distsigma[ipix]).pdf(r)/pixarea\n",
    "\n",
    "top50 = cat[np.flipud(np.argsort(dp_dV))][:50]\n",
    "top50['RAJ2000', 'DEJ2000', 'Ktmag']\n"
   ]
  },
  {
   "cell_type": "code",
   "execution_count": 3,
   "metadata": {},
   "outputs": [
    {
     "data": {
      "text/plain": [
       "array([3.51770336e-24, 1.93074147e-29, 0.00000000e+00, ...,\n",
       "       3.21178328e-30, 0.00000000e+00, 8.18695908e-31])"
      ]
     },
     "execution_count": 3,
     "metadata": {},
     "output_type": "execute_result"
    }
   ],
   "source": [
    "dp_dV"
   ]
  }
 ],
 "metadata": {
  "kernelspec": {
   "display_name": "skymap",
   "language": "python",
   "name": "python3"
  },
  "language_info": {
   "codemirror_mode": {
    "name": "ipython",
    "version": 3
   },
   "file_extension": ".py",
   "mimetype": "text/x-python",
   "name": "python",
   "nbconvert_exporter": "python",
   "pygments_lexer": "ipython3",
   "version": "3.9.16"
  },
  "orig_nbformat": 4,
  "vscode": {
   "interpreter": {
    "hash": "1b0dba5592ebe81c9cac0d44441e475e0a165c19d05667c0e6a9a5faf12bde75"
   }
  }
 },
 "nbformat": 4,
 "nbformat_minor": 2
}
